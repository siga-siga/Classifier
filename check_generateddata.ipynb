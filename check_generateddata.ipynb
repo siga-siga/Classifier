{
 "cells": [
  {
   "cell_type": "code",
   "execution_count": 1,
   "id": "alone-barcelona",
   "metadata": {},
   "outputs": [
    {
     "name": "stderr",
     "output_type": "stream",
     "text": [
      "C:\\Users\\si541\\anaconda3\\envs\\tensorflow140\\lib\\site-packages\\numpy\\core\\_asarray.py:136: VisibleDeprecationWarning: Creating an ndarray from ragged nested sequences (which is a list-or-tuple of lists-or-tuples-or ndarrays with different lengths or shapes) is deprecated. If you meant to do this, you must specify 'dtype=object' when creating the ndarray\n",
      "  return array(a, dtype, copy=False, order=order, subok=True)\n"
     ]
    }
   ],
   "source": [
    "from PIL import Image\n",
    "import os, glob\n",
    "import numpy as np\n",
    "from sklearn import model_selection\n",
    "\n",
    "classes = [\"Oldman\",\"Sparrow\", \"Straycat\"]\n",
    "num_classes = len(classes)\n",
    "image_size = 50 #画像リサイズ\n",
    "\n",
    "#画像の読みこみ\n",
    "\n",
    "X = []\n",
    "Y = []\n",
    "for index, classlabel in enumerate(classes):\n",
    "    photos_dir = \"./\" + classlabel\n",
    "    files = glob.glob(photos_dir + \"/*.jpg\")\n",
    "    for i, file in enumerate(files):\n",
    "        if i >= 200: break\n",
    "        image = Image.open(file)\n",
    "        image = image.convert(\"RGB\")\n",
    "        image = image.resize((image_size, image_size))\n",
    "        data = np.asarray(image)\n",
    "        X.append(data)\n",
    "        Y.append(index)\n",
    "\n",
    "X = np.array(X)\n",
    "Y = np.array(Y)\n",
    "\n",
    "X_train, X_test, y_train, y_test = model_selection.train_test_split(X, Y) #分割処理\n",
    "xy = (X_train, X_test, y_train, y_test)\n",
    "np.save(\"./Classifier.npy\", xy) #Numpyの配列をテキストファイルとして保存"
   ]
  },
  {
   "cell_type": "code",
   "execution_count": 2,
   "id": "under-cycle",
   "metadata": {},
   "outputs": [
    {
     "data": {
      "text/plain": [
       "327"
      ]
     },
     "execution_count": 2,
     "metadata": {},
     "output_type": "execute_result"
    }
   ],
   "source": [
    "len(X_train)"
   ]
  },
  {
   "cell_type": "code",
   "execution_count": 3,
   "id": "higher-ideal",
   "metadata": {},
   "outputs": [
    {
     "data": {
      "text/plain": [
       "110"
      ]
     },
     "execution_count": 3,
     "metadata": {},
     "output_type": "execute_result"
    }
   ],
   "source": [
    "len(X_test)"
   ]
  },
  {
   "cell_type": "code",
   "execution_count": 4,
   "id": "genuine-warrant",
   "metadata": {},
   "outputs": [
    {
     "data": {
      "text/plain": [
       "327"
      ]
     },
     "execution_count": 4,
     "metadata": {},
     "output_type": "execute_result"
    }
   ],
   "source": [
    "len(y_train)"
   ]
  },
  {
   "cell_type": "code",
   "execution_count": 5,
   "id": "coordinated-graham",
   "metadata": {},
   "outputs": [
    {
     "data": {
      "text/plain": [
       "110"
      ]
     },
     "execution_count": 5,
     "metadata": {},
     "output_type": "execute_result"
    }
   ],
   "source": [
    "len(y_test)"
   ]
  },
  {
   "cell_type": "code",
   "execution_count": 7,
   "id": "latin-vault",
   "metadata": {},
   "outputs": [
    {
     "data": {
      "text/plain": [
       "array([[[ 12,  10,   8],\n",
       "        [ 14,  13,  10],\n",
       "        [ 22,  28,  16],\n",
       "        ...,\n",
       "        [ 24,  16,   6],\n",
       "        [ 21,  15,   7],\n",
       "        [ 35,  22,  12]],\n",
       "\n",
       "       [[ 10,  12,   6],\n",
       "        [ 11,  14,   7],\n",
       "        [ 17,  21,  11],\n",
       "        ...,\n",
       "        [ 25,  15,   6],\n",
       "        [ 23,  15,   8],\n",
       "        [ 36,  21,  11]],\n",
       "\n",
       "       [[ 24,  36,  19],\n",
       "        [ 23,  38,  18],\n",
       "        [ 21,  28,  15],\n",
       "        ...,\n",
       "        [ 26,  16,   7],\n",
       "        [ 24,  15,   8],\n",
       "        [ 38,  22,  12]],\n",
       "\n",
       "       ...,\n",
       "\n",
       "       [[120,  98,  89],\n",
       "        [ 24,  19,  15],\n",
       "        [ 77,  61,  52],\n",
       "        ...,\n",
       "        [228, 221, 221],\n",
       "        [227, 222, 219],\n",
       "        [226, 221, 218]],\n",
       "\n",
       "       [[158, 119,  99],\n",
       "        [153, 120, 105],\n",
       "        [202, 170, 152],\n",
       "        ...,\n",
       "        [228, 221, 221],\n",
       "        [227, 222, 219],\n",
       "        [227, 222, 219]],\n",
       "\n",
       "       [[146, 101,  78],\n",
       "        [178, 143, 126],\n",
       "        [204, 174, 159],\n",
       "        ...,\n",
       "        [227, 222, 220],\n",
       "        [226, 221, 219],\n",
       "        [227, 222, 219]]], dtype=uint8)"
      ]
     },
     "execution_count": 7,
     "metadata": {},
     "output_type": "execute_result"
    }
   ],
   "source": [
    "X_train[100]"
   ]
  },
  {
   "cell_type": "code",
   "execution_count": 8,
   "id": "electronic-ending",
   "metadata": {},
   "outputs": [
    {
     "data": {
      "text/plain": [
       "2"
      ]
     },
     "execution_count": 8,
     "metadata": {},
     "output_type": "execute_result"
    }
   ],
   "source": [
    "y_train[100]"
   ]
  },
  {
   "cell_type": "code",
   "execution_count": null,
   "id": "demonstrated-search",
   "metadata": {},
   "outputs": [],
   "source": []
  }
 ],
 "metadata": {
  "kernelspec": {
   "display_name": "Python 3",
   "language": "python",
   "name": "python3"
  },
  "language_info": {
   "codemirror_mode": {
    "name": "ipython",
    "version": 3
   },
   "file_extension": ".py",
   "mimetype": "text/x-python",
   "name": "python",
   "nbconvert_exporter": "python",
   "pygments_lexer": "ipython3",
   "version": "3.6.12"
  }
 },
 "nbformat": 4,
 "nbformat_minor": 5
}
